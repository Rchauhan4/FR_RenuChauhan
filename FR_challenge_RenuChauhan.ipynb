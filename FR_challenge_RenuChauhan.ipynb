{
 "cells": [
  {
   "cell_type": "markdown",
   "metadata": {},
   "source": [
    "I have used Jacaard_similarity matrix to compare the list (Sample1, sample 2 & Sample 3)\n",
    "\n",
    "    \n"
   ]
  },
  {
   "cell_type": "code",
   "execution_count": 29,
   "metadata": {},
   "outputs": [],
   "source": [
    "#jaccard similarity's Defination  \n",
    "def jaccard_similarity(list1, list2):\n",
    "    intersection = len(list(set(list1).intersection(list2)))\n",
    "    union = (len(list1) + len(list2)) - intersection\n",
    "    return float(intersection) / union\n",
    "    \n"
   ]
  },
  {
   "cell_type": "code",
   "execution_count": 30,
   "metadata": {},
   "outputs": [
    {
     "name": "stdout",
     "output_type": "stream",
     "text": [
      "\n",
      "Similarity of Sample 1 and Sample 2 is 0.44565217391304346\n"
     ]
    }
   ],
   "source": [
    "#Token is assignend to the each file with similar words (sample 1 and sample 2)\n",
    "file1_tokenised = []\n",
    "file2_tokenised = []\n",
    "\n",
    "result = []\n",
    "with open('Sample1.txt', \"r\") as f:\n",
    "    file1_tokenised = f.read().split()\n",
    "with open('Sample2.txt', \"r\") as f:\n",
    "    file2_tokenised = f.read().split()\n",
    "\n",
    "print('\\n''Similarity of Sample 1 and Sample 2 is',(jaccard_similarity(file1_tokenised,file2_tokenised)))"
   ]
  },
  {
   "cell_type": "code",
   "execution_count": 31,
   "metadata": {},
   "outputs": [],
   "source": [
    "#jaccard similarity's Defination \n",
    "def jaccard_similarity(list1, list3):\n",
    "    intersection = len(list(set(list1).intersection(list3)))\n",
    "    union = (len(list1) + len(list3)) - intersection\n",
    "    return float(intersection) / union"
   ]
  },
  {
   "cell_type": "code",
   "execution_count": 32,
   "metadata": {},
   "outputs": [
    {
     "name": "stdout",
     "output_type": "stream",
     "text": [
      "\n",
      "Similarity of Sample 1 and Sample 3 is 0.112\n"
     ]
    }
   ],
   "source": [
    "#Token is assignend to the each file with very few similar words (sample 1 and sample 3)\n",
    "file1_tokenised = []\n",
    "file3_tokenised = []\n",
    "result = []\n",
    "with open('Sample1.txt', \"r\") as f:\n",
    "    file1_tokenised = f.read().split()\n",
    "with open('Sample3.txt', \"r\") as f:\n",
    "    file3_tokenised = f.read().split()\n",
    "\n",
    "\n",
    "print('\\n''Similarity of Sample 1 and Sample 3 is',(jaccard_similarity(file1_tokenised,file3_tokenised)))\n",
    "      "
   ]
  },
  {
   "cell_type": "code",
   "execution_count": null,
   "metadata": {},
   "outputs": [],
   "source": []
  }
 ],
 "metadata": {
  "kernelspec": {
   "display_name": "Python 3",
   "language": "python",
   "name": "python3"
  },
  "language_info": {
   "codemirror_mode": {
    "name": "ipython",
    "version": 3
   },
   "file_extension": ".py",
   "mimetype": "text/x-python",
   "name": "python",
   "nbconvert_exporter": "python",
   "pygments_lexer": "ipython3",
   "version": "3.7.4"
  }
 },
 "nbformat": 4,
 "nbformat_minor": 2
}
